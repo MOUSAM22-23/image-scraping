{
 "cells": [
  {
   "cell_type": "code",
   "execution_count": 5,
   "id": "6a1aeef8",
   "metadata": {},
   "outputs": [],
   "source": [
    "import requests\n",
    "from bs4 import BeautifulSoup\n",
    "from urllib.request import urlopen as uReq\n",
    "import logging \n",
    "##import pymongo\n",
    "import os\n"
   ]
  },
  {
   "cell_type": "code",
   "execution_count": 8,
   "id": "f27c026b",
   "metadata": {},
   "outputs": [],
   "source": [
    "save_dir =\"images/\" \n",
    "if not os.path.exists(save_dir):\n",
    "    os.makedirs(save_dir)"
   ]
  },
  {
   "cell_type": "code",
   "execution_count": 10,
   "id": "25e3137a",
   "metadata": {},
   "outputs": [],
   "source": [
    "headers ={\"user-Agent\":\"Mozilla/5.0 (Windows NT 10.0; Win64; x64) AppleWebKit/537.36 (KHTML, like Gecko) Chrome/111.0.0.0 Safari/537.36\"}"
   ]
  },
  {
   "cell_type": "code",
   "execution_count": 11,
   "id": "fd86fc59",
   "metadata": {},
   "outputs": [],
   "source": [
    "query = \"Krishan\"\n",
    "\n",
    "response = requests.get(f\"https://www.google.com/search?q={query}&sca_esv=72b5dcfca6c326d8&udm=2&biw=767&bih=694&sxsrf=ACQVn0-yygIaYPrVW8chSzmbGS3qKiRloA%3A1712302644584&ei=NKoPZseoI4Tg2roP9f-IwAo&ved=0ahUKEwjHkoO3yKqFAxUEsFYBHfU_AqgQ4dUDCBA&uact=5&oq=krishna+jiu&gs_lp=Egxnd3Mtd2l6LXNlcnAiC2tyaXNobmEgaml1SN0LUMgDWNsHcAF4AJABAJgBhQGgAfsDqgEDMC40uAEDyAEA-AEBmAIEoAKbA8ICDRAAGIAEGIoFGEMYsQPCAggQABiABBixA8ICEBAAGIAEGIoFGEMYsQMYgwHCAgsQABiABBixAxiDAcICBRAAGIAEwgIKEAAYgAQYigUYQ5gDAIgGAZIHAzEuM6AHuxA&sclient=gws-wiz-serp\")"
   ]
  },
  {
   "cell_type": "code",
   "execution_count": 20,
   "id": "ad66cef4",
   "metadata": {},
   "outputs": [],
   "source": [
    "soup = BeautifulSoup(response.content,'html.parser')"
   ]
  },
  {
   "cell_type": "code",
   "execution_count": 22,
   "id": "33e9336f",
   "metadata": {},
   "outputs": [],
   "source": [
    "images_tags = soup.find_all(\"img\")"
   ]
  },
  {
   "cell_type": "code",
   "execution_count": 23,
   "id": "6a741353",
   "metadata": {},
   "outputs": [
    {
     "data": {
      "text/plain": [
       "21"
      ]
     },
     "execution_count": 23,
     "metadata": {},
     "output_type": "execute_result"
    }
   ],
   "source": [
    "len(images_tags)"
   ]
  },
  {
   "cell_type": "code",
   "execution_count": 25,
   "id": "f4d762b9",
   "metadata": {},
   "outputs": [],
   "source": [
    "del images_tags[0]"
   ]
  },
  {
   "cell_type": "code",
   "execution_count": 26,
   "id": "35afbb2a",
   "metadata": {},
   "outputs": [
    {
     "data": {
      "text/plain": [
       "[<img alt=\"\" class=\"DS1iW\" src=\"https://encrypted-tbn0.gstatic.com/images?q=tbn:ANd9GcSneVOPygFpor-Y48UuP_qIQFT9axTrB9pUHLPfgprS6vm2u6hUDZqZ5wgzotU&amp;s\"/>,\n",
       " <img alt=\"\" class=\"DS1iW\" src=\"https://encrypted-tbn0.gstatic.com/images?q=tbn:ANd9GcTbCIFICwGEcusdLYbw9bRSf66rIEZyaMQ62r7Kd2TkFGrkpByfab4109pi8A&amp;s\"/>,\n",
       " <img alt=\"\" class=\"DS1iW\" src=\"https://encrypted-tbn0.gstatic.com/images?q=tbn:ANd9GcQhdtDWq8s_7RZ5OFqOXCOMcjsbboEPibkc6iyk5vUq8KLH3_V9I9jxd-BGrug&amp;s\"/>,\n",
       " <img alt=\"\" class=\"DS1iW\" src=\"https://encrypted-tbn0.gstatic.com/images?q=tbn:ANd9GcSH6vqmpajkLEBf6LdGW_OYjPnswIMzm4XW5pRhtdScn4Mc6wBpMyS8ehEs1fc&amp;s\"/>,\n",
       " <img alt=\"\" class=\"DS1iW\" src=\"https://encrypted-tbn0.gstatic.com/images?q=tbn:ANd9GcRD71p_Hp-0alQaeghPxPxKA8YYiTQLHojWspMqS11oP0nTjCCT6Bq69Y58W6A&amp;s\"/>,\n",
       " <img alt=\"\" class=\"DS1iW\" src=\"https://encrypted-tbn0.gstatic.com/images?q=tbn:ANd9GcRuZoNjCeC6ejwDGG8seAPWCAJXN0aWmhVTB5meWjtdQi1rSB71ThaEML1FJK4&amp;s\"/>,\n",
       " <img alt=\"\" class=\"DS1iW\" src=\"https://encrypted-tbn0.gstatic.com/images?q=tbn:ANd9GcTqiaGZ1eHlaaIn2FUHqHrDQe7L7YuzvfUJN8cILbzIjq93owEpSI08p6iWbrY&amp;s\"/>,\n",
       " <img alt=\"\" class=\"DS1iW\" src=\"https://encrypted-tbn0.gstatic.com/images?q=tbn:ANd9GcSXhs01G5AMHn_u9IFBC67SyAbjH43W9Y3gMga2rPb0W820awHlpmN4MgZMDw&amp;s\"/>,\n",
       " <img alt=\"\" class=\"DS1iW\" src=\"https://encrypted-tbn0.gstatic.com/images?q=tbn:ANd9GcS6UP3Mz6fbEiCQjkNTdLQmJx5mL-De-4XXqJkzvvRDOOan3vjDiSGLJ47A-0Q&amp;s\"/>,\n",
       " <img alt=\"\" class=\"DS1iW\" src=\"https://encrypted-tbn0.gstatic.com/images?q=tbn:ANd9GcRzmsiEGUpXWokoC_YW2PRTzG2PDSTku86cgf47NNfXy4Xb_ROoICy1m1TGcA&amp;s\"/>,\n",
       " <img alt=\"\" class=\"DS1iW\" src=\"https://encrypted-tbn0.gstatic.com/images?q=tbn:ANd9GcQxfP2mkgq2JHpqp6rh3PojJ5QxeWsb1oBnYshoiiTrlMutw0DktDzK8XAvqg&amp;s\"/>,\n",
       " <img alt=\"\" class=\"DS1iW\" src=\"https://encrypted-tbn0.gstatic.com/images?q=tbn:ANd9GcTVs5Eo5vJycitOfXzbS4xHer4jLnFnQk1WbUid1C9eSUS5T9uWOsiki-LcEg&amp;s\"/>,\n",
       " <img alt=\"\" class=\"DS1iW\" src=\"https://encrypted-tbn0.gstatic.com/images?q=tbn:ANd9GcTiD0TP7KZhvX0UQ-WxeSoGAoEfly66p9MtECRT2vnkxAQ8N1-vjh0UP_aplEw&amp;s\"/>,\n",
       " <img alt=\"\" class=\"DS1iW\" src=\"https://encrypted-tbn0.gstatic.com/images?q=tbn:ANd9GcQvl0_5-m6HnJJz61a7Apf3jvr9QZtB5GiNs0mh7Sq4Aq4gMCCbi5xoouN81w&amp;s\"/>,\n",
       " <img alt=\"\" class=\"DS1iW\" src=\"https://encrypted-tbn0.gstatic.com/images?q=tbn:ANd9GcSnIpcqlpdev3pQFdvZgZvJhG2yTK_V0cZsR2A-9xytyMquMMJzSb8iTswCXsU&amp;s\"/>,\n",
       " <img alt=\"\" class=\"DS1iW\" src=\"https://encrypted-tbn0.gstatic.com/images?q=tbn:ANd9GcSCRQnKL8uz8PiFpFdWjX2J8w8TSWvsVe-7mIpiqLEBBaarxDrxs6vkMheIMQ&amp;s\"/>,\n",
       " <img alt=\"\" class=\"DS1iW\" src=\"https://encrypted-tbn0.gstatic.com/images?q=tbn:ANd9GcQbpeMf8Z2SADgSa-8YhIMvkKYIYQIgelQEYOsoQ3VtyDvTc59S8_QDMc4J7ko&amp;s\"/>,\n",
       " <img alt=\"\" class=\"DS1iW\" src=\"https://encrypted-tbn0.gstatic.com/images?q=tbn:ANd9GcRYs6iWHM4F_yv5RPGnme62J-wA_DrXKp5spqrfnyj3PZuChGIZZaMnDOpBVx0&amp;s\"/>,\n",
       " <img alt=\"\" class=\"DS1iW\" src=\"https://encrypted-tbn0.gstatic.com/images?q=tbn:ANd9GcRUtAeq8_blg7n_w2I7Z6Tge1J6fSCN0mQ4tqeYphlvykY7Aw4vlWufFk3gjQ&amp;s\"/>,\n",
       " <img alt=\"\" class=\"DS1iW\" src=\"https://encrypted-tbn0.gstatic.com/images?q=tbn:ANd9GcS2sIvBWfvbsylAApHIkj2eTvTTSkGTE4Ur0IY8Ant7L3iwxLk79o0ESsNEzA&amp;s\"/>]"
      ]
     },
     "execution_count": 26,
     "metadata": {},
     "output_type": "execute_result"
    }
   ],
   "source": [
    "images_tags"
   ]
  },
  {
   "cell_type": "code",
   "execution_count": 42,
   "id": "7356fc87",
   "metadata": {},
   "outputs": [],
   "source": [
    "img_data_mongo=[]\n",
    "for i in images_tags:\n",
    "    image_url=i['src']\n",
    "    image_data=requests.get(image_url).content\n",
    "    mydict = {\"inex\":image_url,\"image\": image_data}\n",
    "    img_data_mongo.append(mydict)\n",
    "    with open(os.path.join(save_dir,f\"{query}_{images_tags.index(i)}.jpg\"),\"wb\") as f:\n",
    "              f.write(image_data)\n"
   ]
  },
  {
   "cell_type": "code",
   "execution_count": null,
   "id": "af3d6c56",
   "metadata": {},
   "outputs": [],
   "source": []
  },
  {
   "cell_type": "code",
   "execution_count": null,
   "id": "040976d2",
   "metadata": {},
   "outputs": [],
   "source": []
  },
  {
   "cell_type": "code",
   "execution_count": null,
   "id": "769bb485",
   "metadata": {},
   "outputs": [],
   "source": []
  },
  {
   "cell_type": "code",
   "execution_count": null,
   "id": "e46d90dc",
   "metadata": {},
   "outputs": [],
   "source": []
  }
 ],
 "metadata": {
  "kernelspec": {
   "display_name": "Python 3 (ipykernel)",
   "language": "python",
   "name": "python3"
  },
  "language_info": {
   "codemirror_mode": {
    "name": "ipython",
    "version": 3
   },
   "file_extension": ".py",
   "mimetype": "text/x-python",
   "name": "python",
   "nbconvert_exporter": "python",
   "pygments_lexer": "ipython3",
   "version": "3.11.5"
  }
 },
 "nbformat": 4,
 "nbformat_minor": 5
}
